{
 "cells": [
  {
   "cell_type": "code",
   "execution_count": null,
   "id": "8c38d671",
   "metadata": {},
   "outputs": [],
   "source": [
    "!wget http://nlp.stanford.edu/data/glove.6B.zip"
   ]
  },
  {
   "cell_type": "code",
   "execution_count": null,
   "id": "a0f214ee",
   "metadata": {},
   "outputs": [],
   "source": [
    "!unzip glove.6B.zip"
   ]
  },
  {
   "cell_type": "code",
   "execution_count": 1,
   "id": "0f348430",
   "metadata": {},
   "outputs": [],
   "source": [
    "import json\n",
    "import random\n",
    "import numpy as np\n",
    "import tensorflow as tf\n",
    "from tensorflow.keras.preprocessing.sequence import pad_sequences\n",
    "from tensorflow.keras.utils import to_categorical\n",
    "from tensorflow.keras.layers import Embedding, LSTM, Dense, TimeDistributed, Dropout, Bidirectional\n",
    "from tensorflow.keras.models import Sequential\n",
    "from sklearn.model_selection import train_test_split\n",
    "from tensorflow.keras.optimizers import Adam"
   ]
  },
  {
   "cell_type": "code",
   "execution_count": null,
   "id": "05bba799",
   "metadata": {},
   "outputs": [],
   "source": [
    "with open(\"./license_data_with_missing_parts.json\", \"r\", encoding=\"utf-8\") as f:\n",
    "    data = json.load(f)"
   ]
  },
  {
   "cell_type": "code",
   "execution_count": null,
   "id": "243aa752",
   "metadata": {},
   "outputs": [],
   "source": [
    "import spacy\n",
    "\n",
    "nlp = spacy.blank(\"en\")\n",
    "\n",
    "sentences = []\n",
    "labels = []\n",
    "label_set = {\"O\"}\n",
    "\n",
    "for item in data:\n",
    "    text = item[\"text\"]\n",
    "    entities = item[\"entities\"]\n",
    "\n",
    "    doc = nlp(text)\n",
    "    words = [token.text for token in doc]\n",
    "    token_start_char_idxs = [token.idx for token in doc]\n",
    "\n",
    "    label_seq = [\"O\"] * len(words)\n",
    "\n",
    "    for entity in entities:\n",
    "        ent_start = entity[\"start\"]\n",
    "        ent_end = entity[\"end\"]\n",
    "        ent_label = entity[\"label\"]\n",
    "\n",
    "        for i, token in enumerate(doc):\n",
    "            token_start = token.idx\n",
    "            token_end = token.idx + len(token)\n",
    "\n",
    "            if token_start >= ent_start and token_end <= ent_end:\n",
    "                if token_start == ent_start:\n",
    "                    label_seq[i] = f\"B-{ent_label}\"\n",
    "                else:\n",
    "                    label_seq[i] = f\"I-{ent_label}\"\n",
    "                label_set.add(label_seq[i])\n",
    "\n",
    "    sentences.append(words)\n",
    "    labels.append(label_seq)\n"
   ]
  },
  {
   "cell_type": "code",
   "execution_count": null,
   "id": "57decac3",
   "metadata": {},
   "outputs": [],
   "source": [
    "sentences[1]"
   ]
  },
  {
   "cell_type": "code",
   "execution_count": null,
   "id": "a676dddc",
   "metadata": {},
   "outputs": [],
   "source": [
    "labels[1]"
   ]
  }
 ],
 "metadata": {
  "kernelspec": {
   "display_name": "Python 3",
   "language": "python",
   "name": "python3"
  },
  "language_info": {
   "codemirror_mode": {
    "name": "ipython",
    "version": 3
   },
   "file_extension": ".py",
   "mimetype": "text/x-python",
   "name": "python",
   "nbconvert_exporter": "python",
   "pygments_lexer": "ipython3",
   "version": "3.11.8"
  }
 },
 "nbformat": 4,
 "nbformat_minor": 5
}
